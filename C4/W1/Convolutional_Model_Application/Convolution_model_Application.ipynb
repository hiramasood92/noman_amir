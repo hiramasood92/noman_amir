{
  "cells": [
    {
      "cell_type": "markdown",
      "metadata": {
        "id": "xty87-cvnvoH"
      },
      "source": [
        "# Convolutional Neural Networks: Application\n",
        "\n",
        "Welcome to Course 4's second assignment! In this notebook, you will:\n",
        "\n",
        "- Create a mood classifer using the TF Keras Sequential API\n",
        "- Build a ConvNet to identify sign language digits using the TF Keras Functional API\n",
        "\n",
        "**After this assignment you will be able to:**\n",
        "\n",
        "- Build and train a ConvNet in TensorFlow for a __binary__ classification problem\n",
        "- Build and train a ConvNet in TensorFlow for a __multiclass__ classification problem\n",
        "- Explain different use cases for the Sequential and Functional APIs\n",
        "\n",
        "To complete this assignment, you should already be familiar with TensorFlow. If you are not, please refer back to the **TensorFlow Tutorial** of the third week of Course 2 (\"**Improving deep neural networks**\").\n",
        "\n",
        "## Important Note on Submission to the AutoGrader\n",
        "\n",
        "Before submitting your assignment to the AutoGrader, please make sure you are not doing the following:\n",
        "\n",
        "1. You have not added any _extra_ `print` statement(s) in the assignment.\n",
        "2. You have not added any _extra_ code cell(s) in the assignment.\n",
        "3. You have not changed any of the function parameters.\n",
        "4. You are not using any global variables inside your graded exercises. Unless specifically instructed to do so, please refrain from it and use the local variables instead.\n",
        "5. You are not changing the assignment code where it is not required, like creating _extra_ variables.\n",
        "\n",
        "If you do any of the following, you will get something like, `Grader not found` (or similarly unexpected) error upon submitting your assignment. Before asking for help/debugging the errors in your assignment, check for these first. If this is the case, and you don't remember the changes you have made, you can get a fresh copy of the assignment by following these [instructions](https://www.coursera.org/learn/convolutional-neural-networks/supplement/DS4yP/h-ow-to-refresh-your-workspace)."
      ]
    },
    {
      "cell_type": "code",
      "source": [
        "from google.colab import drive\n",
        "drive.mount('/content/drive')"
      ],
      "metadata": {
        "colab": {
          "base_uri": "https://localhost:8080/"
        },
        "id": "kgZRUSNWnyjf",
        "outputId": "0fad3f4e-b4b8-4a51-8361-31324580d787"
      },
      "execution_count": 1,
      "outputs": [
        {
          "output_type": "stream",
          "name": "stdout",
          "text": [
            "Mounted at /content/drive\n"
          ]
        }
      ]
    },
    {
      "cell_type": "markdown",
      "metadata": {
        "id": "ZfhnAN6jnvoN"
      },
      "source": [
        "## Table of Contents\n",
        "\n",
        "- [1 - Packages](#1)\n",
        "    - [1.1 - Load the Data and Split the Data into Train/Test Sets](#1-1)\n",
        "- [2 - Layers in TF Keras](#2)\n",
        "- [3 - The Sequential API](#3)\n",
        "    - [3.1 - Create the Sequential Model](#3-1)\n",
        "        - [Exercise 1 - happyModel](#ex-1)\n",
        "    - [3.2 - Train and Evaluate the Model](#3-2)\n",
        "- [4 - The Functional API](#4)\n",
        "    - [4.1 - Load the SIGNS Dataset](#4-1)\n",
        "    - [4.2 - Split the Data into Train/Test Sets](#4-2)\n",
        "    - [4.3 - Forward Propagation](#4-3)\n",
        "        - [Exercise 2 - convolutional_model](#ex-2)\n",
        "    - [4.4 - Train the Model](#4-4)\n",
        "- [5 - History Object](#5)\n",
        "- [6 - Bibliography](#6)"
      ]
    },
    {
      "cell_type": "markdown",
      "metadata": {
        "id": "31yGyZRRnvoO"
      },
      "source": [
        "<a name='1'></a>\n",
        "## 1 - Packages\n",
        "\n",
        "As usual, begin by loading in the packages."
      ]
    },
    {
      "cell_type": "code",
      "source": [
        "import math\n",
        "import numpy as np\n",
        "import h5py\n",
        "import matplotlib.pyplot as plt\n",
        "import tensorflow as tf\n",
        "from tensorflow.python.framework import ops\n",
        "\n",
        "\n",
        "def load_happy_dataset():\n",
        "    train_dataset = h5py.File('/content/drive/MyDrive/Colab_Notebooks/Convolutional_Model_Application/datasets/train_happy.h5', \"r\")\n",
        "    train_set_x_orig = np.array(train_dataset[\"train_set_x\"][:]) # your train set features\n",
        "    train_set_y_orig = np.array(train_dataset[\"train_set_y\"][:]) # your train set labels\n",
        "\n",
        "    test_dataset = h5py.File('/content/drive/MyDrive/Colab_Notebooks/Convolutional_Model_Application/datasets/test_happy.h5', \"r\")\n",
        "    test_set_x_orig = np.array(test_dataset[\"test_set_x\"][:]) # your test set features\n",
        "    test_set_y_orig = np.array(test_dataset[\"test_set_y\"][:]) # your test set labels\n",
        "\n",
        "    classes = np.array(test_dataset[\"list_classes\"][:]) # the list of classes\n",
        "    \n",
        "    train_set_y_orig = train_set_y_orig.reshape((1, train_set_y_orig.shape[0]))\n",
        "    test_set_y_orig = test_set_y_orig.reshape((1, test_set_y_orig.shape[0]))\n",
        "    \n",
        "    return train_set_x_orig, train_set_y_orig, test_set_x_orig, test_set_y_orig, classes\n",
        "\n",
        "def load_signs_dataset():\n",
        "    train_dataset = h5py.File('/content/drive/MyDrive/Colab_Notebooks/Convolutional_Model_Application/datasets/train_signs.h5', \"r\")\n",
        "    train_set_x_orig = np.array(train_dataset[\"train_set_x\"][:]) # your train set features\n",
        "    train_set_y_orig = np.array(train_dataset[\"train_set_y\"][:]) # your train set labels\n",
        "\n",
        "    test_dataset = h5py.File('/content/drive/MyDrive/Colab_Notebooks/Convolutional_Model_Application/datasets/test_signs.h5', \"r\")\n",
        "    test_set_x_orig = np.array(test_dataset[\"test_set_x\"][:]) # your test set features\n",
        "    test_set_y_orig = np.array(test_dataset[\"test_set_y\"][:]) # your test set labels\n",
        "\n",
        "    classes = np.array(test_dataset[\"list_classes\"][:]) # the list of classes\n",
        "    \n",
        "    train_set_y_orig = train_set_y_orig.reshape((1, train_set_y_orig.shape[0]))\n",
        "    test_set_y_orig = test_set_y_orig.reshape((1, test_set_y_orig.shape[0]))\n",
        "    \n",
        "    return train_set_x_orig, train_set_y_orig, test_set_x_orig, test_set_y_orig, classes\n",
        "\n",
        "def random_mini_batches(X, Y, mini_batch_size=64, seed=0):\n",
        "    \"\"\"\n",
        "    Creates a list of random minibatches from (X, Y)\n",
        "\n",
        "    Arguments:\n",
        "    X -- input data, of shape (input size, number of examples) (m, Hi, Wi, Ci)\n",
        "    Y -- true \"label\" vector (containing 0 if cat, 1 if non-cat), of shape (1, number of examples) (m, n_y)\n",
        "    mini_batch_size - size of the mini-batches, integer\n",
        "    seed -- this is only for the purpose of grading, so that you're \"random minibatches are the same as ours.\n",
        "\n",
        "    Returns:\n",
        "    mini_batches -- list of synchronous (mini_batch_X, mini_batch_Y)\n",
        "    \"\"\"\n",
        "\n",
        "    m = X.shape[0]                  # number of training examples\n",
        "    mini_batches = []\n",
        "    np.random.seed(seed)\n",
        "\n",
        "    # Step 1: Shuffle (X, Y)\n",
        "    permutation = list(np.random.permutation(m))\n",
        "    shuffled_X = X[permutation, :, :, :]\n",
        "    shuffled_Y = Y[permutation, :]\n",
        "\n",
        "    # Step 2: Partition (shuffled_X, shuffled_Y). Minus the end case.\n",
        "    # number of mini batches of size mini_batch_size in your partitionning\n",
        "    num_complete_minibatches = math.floor(m/mini_batch_size)\n",
        "    for k in range(0, num_complete_minibatches):\n",
        "        mini_batch_X = shuffled_X[k * mini_batch_size: k *\n",
        "                                  mini_batch_size + mini_batch_size, :, :, :]\n",
        "        mini_batch_Y = shuffled_Y[k * mini_batch_size: k *\n",
        "                                  mini_batch_size + mini_batch_size, :]\n",
        "        mini_batch = (mini_batch_X, mini_batch_Y)\n",
        "        mini_batches.append(mini_batch)\n",
        "\n",
        "    # Handling the end case (last mini-batch < mini_batch_size)\n",
        "    if m % mini_batch_size != 0:\n",
        "        mini_batch_X = shuffled_X[num_complete_minibatches *\n",
        "                                  mini_batch_size: m, :, :, :]\n",
        "        mini_batch_Y = shuffled_Y[num_complete_minibatches *\n",
        "                                  mini_batch_size: m, :]\n",
        "        mini_batch = (mini_batch_X, mini_batch_Y)\n",
        "        mini_batches.append(mini_batch)\n",
        "\n",
        "    return mini_batches\n",
        "\n",
        "\n",
        "def convert_to_one_hot(Y, C):\n",
        "    Y = np.eye(C)[Y.reshape(-1)].T\n",
        "    return Y\n",
        "\n",
        "\n",
        "def forward_propagation_for_predict(X, parameters):\n",
        "    \"\"\"\n",
        "    Implements the forward propagation for the model: LINEAR -> RELU -> LINEAR -> RELU -> LINEAR -> SOFTMAX\n",
        "\n",
        "    Arguments:\n",
        "    X -- input dataset placeholder, of shape (input size, number of examples)\n",
        "    parameters -- python dictionary containing your parameters \"W1\", \"b1\", \"W2\", \"b2\", \"W3\", \"b3\"\n",
        "                  the shapes are given in initialize_parameters\n",
        "\n",
        "    Returns:\n",
        "    Z3 -- the output of the last LINEAR unit\n",
        "    \"\"\"\n",
        "\n",
        "    # Retrieve the parameters from the dictionary \"parameters\"\n",
        "    W1 = parameters['W1']\n",
        "    b1 = parameters['b1']\n",
        "    W2 = parameters['W2']\n",
        "    b2 = parameters['b2']\n",
        "    W3 = parameters['W3']\n",
        "    b3 = parameters['b3']\n",
        "    # Numpy Equivalents:\n",
        "    # Z1 = np.dot(W1, X) + b1\n",
        "    Z1 = tf.add(tf.matmul(W1, X), b1)\n",
        "    A1 = tf.nn.relu(Z1)                                    # A1 = relu(Z1)\n",
        "    # Z2 = np.dot(W2, a1) + b2\n",
        "    Z2 = tf.add(tf.matmul(W2, A1), b2)\n",
        "    A2 = tf.nn.relu(Z2)                                    # A2 = relu(Z2)\n",
        "    # Z3 = np.dot(W3,Z2) + b3\n",
        "    Z3 = tf.add(tf.matmul(W3, A2), b3)\n",
        "\n",
        "    return Z3\n",
        "\n",
        "\n",
        "def predict(X, parameters):\n",
        "\n",
        "    W1 = tf.convert_to_tensor(parameters[\"W1\"])\n",
        "    b1 = tf.convert_to_tensor(parameters[\"b1\"])\n",
        "    W2 = tf.convert_to_tensor(parameters[\"W2\"])\n",
        "    b2 = tf.convert_to_tensor(parameters[\"b2\"])\n",
        "    W3 = tf.convert_to_tensor(parameters[\"W3\"])\n",
        "    b3 = tf.convert_to_tensor(parameters[\"b3\"])\n",
        "\n",
        "    params = {\"W1\": W1,\n",
        "              \"b1\": b1,\n",
        "              \"W2\": W2,\n",
        "              \"b2\": b2,\n",
        "              \"W3\": W3,\n",
        "              \"b3\": b3}\n",
        "\n",
        "    x = tf.placeholder(\"float\", [12288, 1])\n",
        "\n",
        "    z3 = forward_propagation_for_predict(x, params)\n",
        "    p = tf.argmax(z3)\n",
        "\n",
        "    sess = tf.Session()\n",
        "    prediction = sess.run(p, feed_dict={x: X})\n",
        "\n",
        "    return prediction\n",
        "\n",
        "# def predict(X, parameters):\n",
        "#\n",
        "#    W1 = tf.convert_to_tensor(parameters[\"W1\"])\n",
        "#    b1 = tf.convert_to_tensor(parameters[\"b1\"])\n",
        "#    W2 = tf.convert_to_tensor(parameters[\"W2\"])\n",
        "#    b2 = tf.convert_to_tensor(parameters[\"b2\"])\n",
        "##    W3 = tf.convert_to_tensor(parameters[\"W3\"])\n",
        "##    b3 = tf.convert_to_tensor(parameters[\"b3\"])\n",
        "#\n",
        "# params = {\"W1\": W1,\n",
        "# \"b1\": b1,\n",
        "# \"W2\": W2,\n",
        "# \"b2\": b2,\n",
        "# \"W3\": W3,\n",
        "# \"b3\": b3}\n",
        "#\n",
        "#    params = {\"W1\": W1,\n",
        "#              \"b1\": b1,\n",
        "#              \"W2\": W2,\n",
        "#              \"b2\": b2}\n",
        "#\n",
        "#    x = tf.placeholder(\"float\", [12288, 1])\n",
        "#\n",
        "#    z3 = forward_propagation(x, params)\n",
        "#    p = tf.argmax(z3)\n",
        "#\n",
        "#    with tf.Session() as sess:\n",
        "#        prediction = sess.run(p, feed_dict = {x: X})\n",
        "#\n",
        "#    return prediction\n"
      ],
      "metadata": {
        "id": "WHKtl2C7n5Gc"
      },
      "execution_count": 19,
      "outputs": []
    },
    {
      "cell_type": "code",
      "source": [
        "import numpy as np\n",
        "from termcolor import colored\n",
        "\n",
        "from tensorflow.keras.layers import Input\n",
        "from tensorflow.keras.layers import Conv2D\n",
        "from tensorflow.keras.layers import MaxPooling2D\n",
        "from tensorflow.keras.layers import Dropout \n",
        "from tensorflow.keras.layers import Conv2DTranspose\n",
        "from tensorflow.keras.layers import concatenate\n",
        "from tensorflow.keras.layers import ZeroPadding2D\n",
        "from tensorflow.keras.layers import Dense\n",
        "\n",
        "\n",
        "# Compare the two inputs\n",
        "def comparator(learner, instructor):\n",
        "    for a, b in zip(learner, instructor):\n",
        "        if tuple(a) != tuple(b):\n",
        "            print(colored(\"Test failed\", attrs=['bold']),\n",
        "                  \"\\n Expected value \\n\\n\", colored(f\"{b}\", \"green\"), \n",
        "                  \"\\n\\n does not match the input value: \\n\\n\", \n",
        "                  colored(f\"{a}\", \"red\"))\n",
        "            raise AssertionError(\"Error in test\") \n",
        "    print(colored(\"All tests passed!\", \"green\"))\n",
        "\n",
        "# extracts the description of a given model\n",
        "def summary(model):\n",
        "    model.compile(optimizer='adam',\n",
        "                  loss='categorical_crossentropy',\n",
        "                  metrics=['accuracy'])\n",
        "    result = []\n",
        "    for layer in model.layers:\n",
        "        descriptors = [layer.__class__.__name__, layer.output_shape, layer.count_params()]\n",
        "        if (type(layer) == Conv2D):\n",
        "            descriptors.append(layer.padding)\n",
        "            descriptors.append(layer.activation.__name__)\n",
        "            descriptors.append(layer.kernel_initializer.__class__.__name__)\n",
        "        if (type(layer) == MaxPooling2D):\n",
        "            descriptors.append(layer.pool_size)\n",
        "            descriptors.append(layer.strides)\n",
        "            descriptors.append(layer.padding)\n",
        "        if (type(layer) == Dropout):\n",
        "            descriptors.append(layer.rate)\n",
        "        if (type(layer) == ZeroPadding2D):\n",
        "            descriptors.append(layer.padding)\n",
        "        if (type(layer) == Dense):\n",
        "            descriptors.append(layer.activation.__name__)\n",
        "        result.append(descriptors)\n",
        "    return result\n",
        "\n",
        "def datatype_check(expected_output, target_output, error):\n",
        "    success = 0\n",
        "    if isinstance(target_output, dict):\n",
        "        for key in target_output.keys():\n",
        "            try:\n",
        "                success += datatype_check(expected_output[key], \n",
        "                                         target_output[key], error)\n",
        "            except:\n",
        "                print(\"Error: {} in variable {}. Got {} but expected type {}\".format(error,\n",
        "                                                                          key, type(target_output[key]), type(expected_output[key])))\n",
        "        if success == len(target_output.keys()):\n",
        "            return 1\n",
        "        else:\n",
        "            return 0\n",
        "    elif isinstance(target_output, tuple) or isinstance(target_output, list):\n",
        "        for i in range(len(target_output)):\n",
        "            try: \n",
        "                success += datatype_check(expected_output[i], \n",
        "                                         target_output[i], error)\n",
        "            except:\n",
        "                print(\"Error: {} in variable {}, expected type: {}  but expected type {}\".format(error,\n",
        "                                                                          i, type(target_output[i]), type(expected_output[i])))\n",
        "        if success == len(target_output):\n",
        "            return 1\n",
        "        else:\n",
        "            return 0\n",
        "                \n",
        "    else:\n",
        "        assert isinstance(target_output, type(expected_output))\n",
        "        return 1\n",
        "            \n",
        "def equation_output_check(expected_output, target_output, error):\n",
        "    success = 0\n",
        "    if isinstance(target_output, dict):\n",
        "        for key in target_output.keys():\n",
        "            try:\n",
        "                success += equation_output_check(expected_output[key], \n",
        "                                         target_output[key], error)\n",
        "            except:\n",
        "                print(\"Error: {} for variable {}.\".format(error,\n",
        "                                                                          key))\n",
        "        if success == len(target_output.keys()):\n",
        "            return 1\n",
        "        else:\n",
        "            return 0\n",
        "    elif isinstance(target_output, tuple) or isinstance(target_output, list):\n",
        "        for i in range(len(target_output)):\n",
        "            try: \n",
        "                success += equation_output_check(expected_output[i], \n",
        "                                         target_output[i], error)\n",
        "            except:\n",
        "                print(\"Error: {} for variable in position {}.\".format(error, i))\n",
        "        if success == len(target_output):\n",
        "            return 1\n",
        "        else:\n",
        "            return 0\n",
        "                \n",
        "    else:\n",
        "        if hasattr(target_output, 'shape'):\n",
        "            np.testing.assert_array_almost_equal(target_output, expected_output)\n",
        "        else:\n",
        "            assert target_output == expected_output\n",
        "        return 1\n",
        "    \n",
        "def shape_check(expected_output, target_output, error):\n",
        "    success = 0\n",
        "    if isinstance(target_output, dict):\n",
        "        for key in target_output.keys():\n",
        "            try:\n",
        "                success += shape_check(expected_output[key], \n",
        "                                         target_output[key], error)\n",
        "            except:\n",
        "                print(\"Error: {} for variable {}.\".format(error, key))\n",
        "        if success == len(target_output.keys()):\n",
        "            return 1\n",
        "        else:\n",
        "            return 0\n",
        "    elif isinstance(target_output, tuple) or isinstance(target_output, list):\n",
        "        for i in range(len(target_output)):\n",
        "            try: \n",
        "                success += shape_check(expected_output[i], \n",
        "                                         target_output[i], error)\n",
        "            except:\n",
        "                print(\"Error: {} for variable {}.\".format(error, i))\n",
        "        if success == len(target_output):\n",
        "            return 1\n",
        "        else:\n",
        "            return 0\n",
        "                \n",
        "    else:\n",
        "        if hasattr(target_output, 'shape'):\n",
        "            assert target_output.shape == expected_output.shape\n",
        "        return 1\n",
        "                \n",
        "def single_test(test_cases, target):\n",
        "    success = 0\n",
        "    for test_case in test_cases:\n",
        "        try:\n",
        "            if test_case['name'] == \"datatype_check\":\n",
        "                assert isinstance(target(*test_case['input']),\n",
        "                                  type(test_case[\"expected\"]))\n",
        "                success += 1\n",
        "            if test_case['name'] == \"equation_output_check\":\n",
        "                assert np.allclose(test_case[\"expected\"],\n",
        "                                   target(*test_case['input']))\n",
        "                success += 1\n",
        "            if test_case['name'] == \"shape_check\":\n",
        "                assert test_case['expected'].shape == target(*test_case['input']).shape\n",
        "                success += 1\n",
        "        except:\n",
        "            print(\"Error: \" + test_case['error'])\n",
        "            \n",
        "    if success == len(test_cases):\n",
        "        print(\"\\033[92m All tests passed.\")\n",
        "    else:\n",
        "        print('\\033[92m', success,\" Tests passed\")\n",
        "        print('\\033[91m', len(test_cases) - success, \" Tests failed\")\n",
        "        raise AssertionError(\"Not all tests were passed for {}. Check your equations and avoid using global variables inside the function.\".format(target.__name__))\n",
        "        \n",
        "def multiple_test(test_cases, target):\n",
        "    success = 0\n",
        "    for test_case in test_cases:\n",
        "        try:\n",
        "            target_answer = target(*test_case['input'])                   \n",
        "            if test_case['name'] == \"datatype_check\":\n",
        "                success += datatype_check(test_case['expected'], target_answer, test_case['error'])\n",
        "            if test_case['name'] == \"equation_output_check\":\n",
        "                success += equation_output_check(test_case['expected'], target_answer, test_case['error'])\n",
        "            if test_case['name'] == \"shape_check\":\n",
        "                success += shape_check(test_case['expected'], target_answer, test_case['error'])\n",
        "        except:\n",
        "            print(\"Error: \" + test_case['error'])\n",
        "            \n",
        "    if success == len(test_cases):\n",
        "        print(\"\\033[92m All tests passed.\")\n",
        "    else:\n",
        "        print('\\033[92m', success,\" Tests passed\")\n",
        "        print('\\033[91m', len(test_cases) - success, \" Tests failed\")\n",
        "        raise AssertionError(\"Not all tests were passed for {}. Check your equations and avoid using global variables inside the function.\".format(target.__name__))\n",
        "        \n",
        "        \n",
        "        \n"
      ],
      "metadata": {
        "id": "51ZAPixboF8j"
      },
      "execution_count": 3,
      "outputs": []
    },
    {
      "cell_type": "code",
      "execution_count": 5,
      "metadata": {
        "id": "yyNRn9VunvoP"
      },
      "outputs": [],
      "source": [
        "import math\n",
        "import numpy as np\n",
        "import h5py\n",
        "import matplotlib.pyplot as plt\n",
        "from matplotlib.pyplot import imread\n",
        "import scipy\n",
        "from PIL import Image\n",
        "import pandas as pd\n",
        "import tensorflow as tf\n",
        "import tensorflow.keras.layers as tfl\n",
        "from tensorflow.python.framework import ops\n",
        "\n",
        "%matplotlib inline\n",
        "np.random.seed(1)"
      ]
    },
    {
      "cell_type": "markdown",
      "metadata": {
        "id": "mh5Rk7imnvoQ"
      },
      "source": [
        "<a name='1-1'></a>\n",
        "### 1.1 - Load the Data and Split the Data into Train/Test Sets\n",
        "\n",
        "You'll be using the Happy House dataset for this part of the assignment, which contains images of peoples' faces. Your task will be to build a ConvNet that determines whether the people in the images are smiling or not -- because they only get to enter the house if they're smiling!  "
      ]
    },
    {
      "cell_type": "code",
      "execution_count": 8,
      "metadata": {
        "colab": {
          "base_uri": "https://localhost:8080/"
        },
        "id": "fx_Io_xrnvoQ",
        "outputId": "c61cddad-75e5-4255-f0d3-d411794d6556"
      },
      "outputs": [
        {
          "output_type": "stream",
          "name": "stdout",
          "text": [
            "number of training examples = 600\n",
            "number of test examples = 150\n",
            "X_train shape: (600, 64, 64, 3)\n",
            "Y_train shape: (600, 1)\n",
            "X_test shape: (150, 64, 64, 3)\n",
            "Y_test shape: (150, 1)\n"
          ]
        }
      ],
      "source": [
        "X_train_orig, Y_train_orig, X_test_orig, Y_test_orig, classes = load_happy_dataset()\n",
        "\n",
        "# Normalize image vectors\n",
        "X_train = X_train_orig/255.\n",
        "X_test = X_test_orig/255.\n",
        "\n",
        "# Reshape\n",
        "Y_train = Y_train_orig.T\n",
        "Y_test = Y_test_orig.T\n",
        "\n",
        "print (\"number of training examples = \" + str(X_train.shape[0]))\n",
        "print (\"number of test examples = \" + str(X_test.shape[0]))\n",
        "print (\"X_train shape: \" + str(X_train.shape))\n",
        "print (\"Y_train shape: \" + str(Y_train.shape))\n",
        "print (\"X_test shape: \" + str(X_test.shape))\n",
        "print (\"Y_test shape: \" + str(Y_test.shape))"
      ]
    },
    {
      "cell_type": "markdown",
      "metadata": {
        "id": "j8C5_xognvoR"
      },
      "source": [
        "You can display the images contained in the dataset. Images are **64x64** pixels in RGB format (3 channels)."
      ]
    },
    {
      "cell_type": "code",
      "execution_count": 9,
      "metadata": {
        "colab": {
          "base_uri": "https://localhost:8080/",
          "height": 268
        },
        "id": "E0vUUxeUnvoS",
        "outputId": "0eb2c2d4-445b-41e2-ff97-5d0626c59ea9"
      },
      "outputs": [
        {
          "output_type": "display_data",
          "data": {
            "text/plain": [
              "<Figure size 432x288 with 1 Axes>"
            ],
            "image/png": "[encoded data removed]"
          },
          "metadata": {
            "needs_background": "light"
          }
        }
      ],
      "source": [
        "index = 124\n",
        "plt.imshow(X_train_orig[index]) #display sample training image\n",
        "plt.show()"
      ]
    },
    {
      "cell_type": "markdown",
      "metadata": {
        "id": "VyYLrjCinvoS"
      },
      "source": [
        "<a name='2'></a>\n",
        "## 2 - Layers in TF Keras \n",
        "\n",
        "In the previous assignment, you created layers manually in numpy. In TF Keras, you don't have to write code directly to create layers. Rather, TF Keras has pre-defined layers you can use. \n",
        "\n",
        "When you create a layer in TF Keras, you are creating a function that takes some input and transforms it into an output you can reuse later. Nice and easy! "
      ]
    },
    {
      "cell_type": "markdown",
      "metadata": {
        "id": "4VN8P4nonvoU"
      },
      "source": [
        "<a name='3'></a>\n",
        "## 3 - The Sequential API\n",
        "\n",
        "In the previous assignment, you built helper functions using `numpy` to understand the mechanics behind convolutional neural networks. Most practical applications of deep learning today are built using programming frameworks, which have many built-in functions you can simply call. Keras is a high-level abstraction built on top of TensorFlow, which allows for even more simplified and optimized model creation and training. \n",
        "\n",
        "For the first part of this assignment, you'll create a model using TF Keras' Sequential API, which allows you to build layer by layer, and is ideal for building models where each layer has **exactly one** input tensor and **one** output tensor. \n",
        "\n",
        "As you'll see, using the Sequential API is simple and straightforward, but is only appropriate for simpler, more straightforward tasks. Later in this notebook you'll spend some time building with a more flexible, powerful alternative: the Functional API. \n",
        " "
      ]
    },
    {
      "cell_type": "markdown",
      "metadata": {
        "id": "pUQqNrYpnvoV"
      },
      "source": [
        "<a name='3-1'></a>\n",
        "### 3.1 - Create the Sequential Model\n",
        "\n",
        "As mentioned earlier, the TensorFlow Keras Sequential API can be used to build simple models with layer operations that proceed in a sequential order. \n",
        "\n",
        "You can also add layers incrementally to a Sequential model with the `.add()` method, or remove them using the `.pop()` method, much like you would in a regular Python list.\n",
        "\n",
        "Actually, you can think of a Sequential model as behaving like a list of layers. Like Python lists, Sequential layers are ordered, and the order in which they are specified matters.  If your model is non-linear or contains layers with multiple inputs or outputs, a Sequential model wouldn't be the right choice!\n",
        "\n",
        "For any layer construction in Keras, you'll need to specify the input shape in advance. This is because in Keras, the shape of the weights is based on the shape of the inputs. The weights are only created when the model first sees some input data. Sequential models can be created by passing a list of layers to the Sequential constructor, like you will do in the next assignment.\n",
        "\n",
        "<a name='ex-1'></a>\n",
        "### Exercise 1 - happyModel\n",
        "\n",
        "Implement the `happyModel` function below to build the following model: `ZEROPAD2D -> CONV2D -> BATCHNORM -> RELU -> MAXPOOL -> FLATTEN -> DENSE`. Take help from [tf.keras.layers](https://www.tensorflow.org/api_docs/python/tf/keras/layers) \n",
        "\n",
        "Also, plug in the following parameters for all the steps:\n",
        "\n",
        " - [ZeroPadding2D](https://www.tensorflow.org/api_docs/python/tf/keras/layers/ZeroPadding2D): padding 3, input shape 64 x 64 x 3\n",
        " - [Conv2D](https://www.tensorflow.org/api_docs/python/tf/keras/layers/Conv2D): Use 32 7x7 filters, stride 1\n",
        " - [BatchNormalization](https://www.tensorflow.org/api_docs/python/tf/keras/layers/BatchNormalization): for axis 3\n",
        " - [ReLU](https://www.tensorflow.org/api_docs/python/tf/keras/layers/ReLU)\n",
        " - [MaxPool2D](https://www.tensorflow.org/api_docs/python/tf/keras/layers/MaxPool2D): Using default parameters\n",
        " - [Flatten](https://www.tensorflow.org/api_docs/python/tf/keras/layers/Flatten) the previous output.\n",
        " - Fully-connected ([Dense](https://www.tensorflow.org/api_docs/python/tf/keras/layers/Dense)) layer: Apply a fully connected layer with 1 neuron and a sigmoid activation. \n",
        " \n",
        " \n",
        " **Hint:**\n",
        " \n",
        " Use **tfl** as shorthand for **tensorflow.keras.layers**"
      ]
    },
    {
      "cell_type": "code",
      "execution_count": 12,
      "metadata": {
        "deletable": false,
        "nbgrader": {
          "cell_type": "code",
          "checksum": "95d28b191f257bdd5b70c7b8952559d5",
          "grade": false,
          "grade_id": "cell-0e56d3fc28b69aec",
          "locked": false,
          "schema_version": 3,
          "solution": true,
          "task": false
        },
        "id": "jsdFlWPynvoW"
      },
      "outputs": [],
      "source": [
        "# GRADED FUNCTION: happyModel\n",
        "\n",
        "def happyModel():\n",
        "    \"\"\"\n",
        "    Implements the forward propagation for the binary classification model:\n",
        "    ZEROPAD2D -> CONV2D -> BATCHNORM -> RELU -> MAXPOOL -> FLATTEN -> DENSE\n",
        "    \n",
        "    Note that for simplicity and grading purposes, you'll hard-code all the values\n",
        "    such as the stride and kernel (filter) sizes. \n",
        "    Normally, functions should take these values as function parameters.\n",
        "    \n",
        "    Arguments:\n",
        "    None\n",
        "\n",
        "    Returns:\n",
        "    model -- TF Keras model (object containing the information for the entire training process) \n",
        "    \"\"\"\n",
        "    model = tf.keras.Sequential([       \n",
        "            ## ZeroPadding2D with padding 3, input shape of 64 x 64 x 3\n",
        "            \n",
        "            ## Conv2D with 32 7x7 filters and stride of 1\n",
        "            \n",
        "            ## BatchNormalization for axis 3\n",
        "\n",
        "            ## ReLU\n",
        "            \n",
        "            ## Max Pooling 2D with default parameters\n",
        "            \n",
        "            ## Flatten layer\n",
        "            \n",
        "            ## Dense layer with 1 unit for output & 'sigmoid' activation\n",
        "\n",
        "            # YOUR CODE STARTS HERE\n",
        "            tfl.ZeroPadding2D(padding=3, data_format='channels_last', input_shape=(64,64,3)),\n",
        "            tfl.Conv2D(filters=32, kernel_size=7, strides=1),\n",
        "            tfl.BatchNormalization(axis=3),\n",
        "            tfl.ReLU(),\n",
        "            tfl.MaxPool2D(),\n",
        "            tfl.Flatten(),\n",
        "            tfl.Dense(units=1, activation='sigmoid')\n",
        "            # YOUR CODE ENDS HERE\n",
        "        ])\n",
        "    \n",
        "    return model"
      ]
    },
    {
      "cell_type": "code",
      "execution_count": 13,
      "metadata": {
        "deletable": false,
        "editable": false,
        "nbgrader": {
          "cell_type": "code",
          "checksum": "8d3575c950e2e78149be2d05d671c80d",
          "grade": true,
          "grade_id": "cell-e3e1046e5c33d775",
          "locked": true,
          "points": 10,
          "schema_version": 3,
          "solution": false,
          "task": false
        },
        "colab": {
          "base_uri": "https://localhost:8080/"
        },
        "id": "PGPkjKxRnvoX",
        "outputId": "8f726f23-3de6-4e3b-87ec-4ce80126aa6a"
      },
      "outputs": [
        {
          "output_type": "stream",
          "name": "stdout",
          "text": [
            "['ZeroPadding2D', (None, 70, 70, 3), 0, ((3, 3), (3, 3))]\n",
            "['Conv2D', (None, 64, 64, 32), 4736, 'valid', 'linear', 'GlorotUniform']\n",
            "['BatchNormalization', (None, 64, 64, 32), 128]\n",
            "['ReLU', (None, 64, 64, 32), 0]\n",
            "['MaxPooling2D', (None, 32, 32, 32), 0, (2, 2), (2, 2), 'valid']\n",
            "['Flatten', (None, 32768), 0]\n",
            "['Dense', (None, 1), 32769, 'sigmoid']\n",
            "\u001b[32mAll tests passed!\u001b[0m\n"
          ]
        }
      ],
      "source": [
        "happy_model = happyModel()\n",
        "# Print a summary for each layer\n",
        "for layer in summary(happy_model):\n",
        "    print(layer)\n",
        "    \n",
        "output = [['ZeroPadding2D', (None, 70, 70, 3), 0, ((3, 3), (3, 3))],\n",
        "            ['Conv2D', (None, 64, 64, 32), 4736, 'valid', 'linear', 'GlorotUniform'],\n",
        "            ['BatchNormalization', (None, 64, 64, 32), 128],\n",
        "            ['ReLU', (None, 64, 64, 32), 0],\n",
        "            ['MaxPooling2D', (None, 32, 32, 32), 0, (2, 2), (2, 2), 'valid'],\n",
        "            ['Flatten', (None, 32768), 0],\n",
        "            ['Dense', (None, 1), 32769, 'sigmoid']]\n",
        "    \n",
        "comparator(summary(happy_model), output)"
      ]
    },
    {
      "cell_type": "markdown",
      "metadata": {
        "id": "Qbv2lDVnnvoX"
      },
      "source": [
        "Now that your model is created, you can compile it for training with an optimizer and loss of your choice. When the string `accuracy` is specified as a metric, the type of accuracy used will be automatically converted based on the loss function used. This is one of the many optimizations built into TensorFlow that make your life easier! If you'd like to read more on how the compiler operates, check the docs [here](https://www.tensorflow.org/api_docs/python/tf/keras/Model#compile)."
      ]
    },
    {
      "cell_type": "code",
      "execution_count": 14,
      "metadata": {
        "id": "pM2KDyCJnvoY"
      },
      "outputs": [],
      "source": [
        "happy_model.compile(optimizer='adam',\n",
        "                   loss='binary_crossentropy',\n",
        "                   metrics=['accuracy'])"
      ]
    },
    {
      "cell_type": "markdown",
      "metadata": {
        "id": "nzcX2MQNnvoY"
      },
      "source": [
        "It's time to check your model's parameters with the `.summary()` method. This will display the types of layers you have, the shape of the outputs, and how many parameters are in each layer. "
      ]
    },
    {
      "cell_type": "code",
      "execution_count": 15,
      "metadata": {
        "colab": {
          "base_uri": "https://localhost:8080/"
        },
        "id": "2jIXqP8PnvoY",
        "outputId": "edcd5ad7-4c79-4ab2-9ceb-15ca6d385bf1"
      },
      "outputs": [
        {
          "output_type": "stream",
          "name": "stdout",
          "text": [
            "Model: \"sequential\"\n",
            "_________________________________________________________________\n",
            " Layer (type)                Output Shape              Param #   \n",
            "=================================================================\n",
            " zero_padding2d_1 (ZeroPaddi  (None, 70, 70, 3)        0         \n",
            " ng2D)                                                           \n",
            "                                                                 \n",
            " conv2d (Conv2D)             (None, 64, 64, 32)        4736      \n",
            "                                                                 \n",
            " batch_normalization (BatchN  (None, 64, 64, 32)       128       \n",
            " ormalization)                                                   \n",
            "                                                                 \n",
            " re_lu (ReLU)                (None, 64, 64, 32)        0         \n",
            "                                                                 \n",
            " max_pooling2d (MaxPooling2D  (None, 32, 32, 32)       0         \n",
            " )                                                               \n",
            "                                                                 \n",
            " flatten (Flatten)           (None, 32768)             0         \n",
            "                                                                 \n",
            " dense (Dense)               (None, 1)                 32769     \n",
            "                                                                 \n",
            "=================================================================\n",
            "Total params: 37,633\n",
            "Trainable params: 37,569\n",
            "Non-trainable params: 64\n",
            "_________________________________________________________________\n"
          ]
        }
      ],
      "source": [
        "happy_model.summary()"
      ]
    },
    {
      "cell_type": "markdown",
      "metadata": {
        "id": "Y6iGpDO9nvoZ"
      },
      "source": [
        "<a name='3-2'></a>\n",
        "### 3.2 - Train and Evaluate the Model\n",
        "\n",
        "After creating the model, compiling it with your choice of optimizer and loss function, and doing a sanity check on its contents, you are now ready to build! \n",
        "\n",
        "Simply call `.fit()` to train. That's it! No need for mini-batching, saving, or complex backpropagation computations. That's all been done for you, as you're using a TensorFlow dataset with the batches specified already. You do have the option to specify epoch number or minibatch size if you like (for example, in the case of an un-batched dataset)."
      ]
    },
    {
      "cell_type": "code",
      "execution_count": 16,
      "metadata": {
        "colab": {
          "base_uri": "https://localhost:8080/"
        },
        "id": "KkxHIoE-nvoZ",
        "outputId": "24c1aba3-aff6-4b2e-e617-b39dc07ff9e1"
      },
      "outputs": [
        {
          "output_type": "stream",
          "name": "stdout",
          "text": [
            "Epoch 1/10\n",
            "38/38 [==============================] - 4s 98ms/step - loss: 1.0196 - accuracy: 0.7383\n",
            "Epoch 2/10\n",
            "38/38 [==============================] - 4s 97ms/step - loss: 0.2714 - accuracy: 0.8733\n",
            "Epoch 3/10\n",
            "38/38 [==============================] - 4s 96ms/step - loss: 0.1457 - accuracy: 0.9400\n",
            "Epoch 4/10\n",
            "38/38 [==============================] - 4s 95ms/step - loss: 0.1756 - accuracy: 0.9333\n",
            "Epoch 5/10\n",
            "38/38 [==============================] - 4s 97ms/step - loss: 0.1598 - accuracy: 0.9433\n",
            "Epoch 6/10\n",
            "38/38 [==============================] - 4s 97ms/step - loss: 0.0902 - accuracy: 0.9717\n",
            "Epoch 7/10\n",
            "38/38 [==============================] - 4s 96ms/step - loss: 0.1775 - accuracy: 0.9350\n",
            "Epoch 8/10\n",
            "38/38 [==============================] - 4s 97ms/step - loss: 0.1558 - accuracy: 0.9450\n",
            "Epoch 9/10\n",
            "38/38 [==============================] - 4s 96ms/step - loss: 0.3145 - accuracy: 0.9000\n",
            "Epoch 10/10\n",
            "38/38 [==============================] - 4s 97ms/step - loss: 0.0972 - accuracy: 0.9650\n"
          ]
        },
        {
          "output_type": "execute_result",
          "data": {
            "text/plain": [
              "<keras.callbacks.History at 0x7f6d5f46d850>"
            ]
          },
          "metadata": {},
          "execution_count": 16
        }
      ],
      "source": [
        "happy_model.fit(X_train, Y_train, epochs=10, batch_size=16)"
      ]
    },
    {
      "cell_type": "markdown",
      "metadata": {
        "id": "6Kwi8LZ8nvoZ"
      },
      "source": [
        "After that completes, just use `.evaluate()` to evaluate against your test set. This function will print the value of the loss function and the performance metrics specified during the compilation of the model. In this case, the `binary_crossentropy` and the `accuracy` respectively."
      ]
    },
    {
      "cell_type": "code",
      "execution_count": 17,
      "metadata": {
        "colab": {
          "base_uri": "https://localhost:8080/"
        },
        "id": "YqLJNLZynvoZ",
        "outputId": "9575b797-0ac5-4316-edd3-1b83c6e35d9c"
      },
      "outputs": [
        {
          "output_type": "stream",
          "name": "stdout",
          "text": [
            "5/5 [==============================] - 0s 50ms/step - loss: 1.5596 - accuracy: 0.6933\n"
          ]
        },
        {
          "output_type": "execute_result",
          "data": {
            "text/plain": [
              "[1.559608817100525, 0.6933333277702332]"
            ]
          },
          "metadata": {},
          "execution_count": 17
        }
      ],
      "source": [
        "happy_model.evaluate(X_test, Y_test)"
      ]
    },
    {
      "cell_type": "markdown",
      "metadata": {
        "id": "2Tz8VCgDnvoZ"
      },
      "source": [
        "Easy, right? But what if you need to build a model with shared layers, branches, or multiple inputs and outputs? This is where Sequential, with its beautifully simple yet limited functionality, won't be able to help you. \n",
        "\n",
        "Next up: Enter the Functional API, your slightly more complex, highly flexible friend.  "
      ]
    },
    {
      "cell_type": "markdown",
      "metadata": {
        "id": "BiGtA0Nxnvoa"
      },
      "source": [
        "<a name='4'></a>\n",
        "## 4 - The Functional API"
      ]
    },
    {
      "cell_type": "markdown",
      "metadata": {
        "id": "wT1WorU6nvoa"
      },
      "source": [
        "Welcome to the second half of the assignment, where you'll use Keras' flexible [Functional API](https://www.tensorflow.org/guide/keras/functional) to build a ConvNet that can differentiate between 6 sign language digits. \n",
        "\n",
        "The Functional API can handle models with non-linear topology, shared layers, as well as layers with multiple inputs or outputs. Imagine that, where the Sequential API requires the model to move in a linear fashion through its layers, the Functional API allows much more flexibility. Where Sequential is a straight line, a Functional model is a graph, where the nodes of the layers can connect in many more ways than one. \n",
        "\n",
        "In the visual example below, the one possible direction of the movement Sequential model is shown in contrast to a skip connection, which is just one of the many ways a Functional model can be constructed. A skip connection, as you might have guessed, skips some layer in the network and feeds the output to a later layer in the network. Don't worry, you'll be spending more time with skip connections very soon! "
      ]
    },
    {
      "cell_type": "markdown",
      "metadata": {
        "id": "OtsVc9uanvoa"
      },
      "source": [
        "<img src=\"https://drive.google.com/uc?id=1O5B_7SutXrcwfMbmmRjvFzb6p53jDtRV\" style=\"width:350px;height:200px;\">"
      ]
    },
    {
      "cell_type": "markdown",
      "metadata": {
        "id": "3cJakf2ynvoa"
      },
      "source": [
        "<a name='4-1'></a>\n",
        "### 4.1 - Load the SIGNS Dataset\n",
        "\n",
        "As a reminder, the SIGNS dataset is a collection of 6 signs representing numbers from 0 to 5."
      ]
    },
    {
      "cell_type": "code",
      "execution_count": 20,
      "metadata": {
        "id": "kF-lOnU8nvoa"
      },
      "outputs": [],
      "source": [
        "# Loading the data (signs)\n",
        "X_train_orig, Y_train_orig, X_test_orig, Y_test_orig, classes = load_signs_dataset()"
      ]
    },
    {
      "cell_type": "code",
      "execution_count": 21,
      "metadata": {
        "colab": {
          "base_uri": "https://localhost:8080/",
          "height": 286
        },
        "id": "WUYVraNcnvob",
        "outputId": "fb3e39dc-74d3-461b-d58d-c341c8eb036e"
      },
      "outputs": [
        {
          "output_type": "stream",
          "name": "stdout",
          "text": [
            "y = 4\n"
          ]
        },
        {
          "output_type": "display_data",
          "data": {
            "text/plain": [
              "<Figure size 432x288 with 1 Axes>"
            ],
            "image/png": "[encoded data removed]"
          },
          "metadata": {
            "needs_background": "light"
          }
        }
      ],
      "source": [
        "# Example of an image from the dataset\n",
        "index = 9\n",
        "plt.imshow(X_train_orig[index])\n",
        "print (\"y = \" + str(np.squeeze(Y_train_orig[:, index])))"
      ]
    },
    {
      "cell_type": "markdown",
      "metadata": {
        "id": "79nnrMOlnvob"
      },
      "source": [
        "<a name='4-2'></a>\n",
        "### 4.2 - Split the Data into Train/Test Sets\n",
        "\n",
        "In Course 2, you built a fully-connected network for this dataset. But since this is an image dataset, it is more natural to apply a ConvNet to it.\n",
        "\n",
        "To get started, let's examine the shapes of your data. "
      ]
    },
    {
      "cell_type": "code",
      "execution_count": 22,
      "metadata": {
        "colab": {
          "base_uri": "https://localhost:8080/"
        },
        "id": "1sx0q5Lpnvob",
        "outputId": "516027ad-5761-46c7-9c5b-ccb490f608fb"
      },
      "outputs": [
        {
          "output_type": "stream",
          "name": "stdout",
          "text": [
            "number of training examples = 1080\n",
            "number of test examples = 120\n",
            "X_train shape: (1080, 64, 64, 3)\n",
            "Y_train shape: (1080, 6)\n",
            "X_test shape: (120, 64, 64, 3)\n",
            "Y_test shape: (120, 6)\n"
          ]
        }
      ],
      "source": [
        "X_train = X_train_orig/255.\n",
        "X_test = X_test_orig/255.\n",
        "Y_train = convert_to_one_hot(Y_train_orig, 6).T\n",
        "Y_test = convert_to_one_hot(Y_test_orig, 6).T\n",
        "print (\"number of training examples = \" + str(X_train.shape[0]))\n",
        "print (\"number of test examples = \" + str(X_test.shape[0]))\n",
        "print (\"X_train shape: \" + str(X_train.shape))\n",
        "print (\"Y_train shape: \" + str(Y_train.shape))\n",
        "print (\"X_test shape: \" + str(X_test.shape))\n",
        "print (\"Y_test shape: \" + str(Y_test.shape))"
      ]
    },
    {
      "cell_type": "markdown",
      "metadata": {
        "id": "AcrqdGmfnvob"
      },
      "source": [
        "<a name='4-3'></a>\n",
        "### 4.3 - Forward Propagation\n",
        "\n",
        "In TensorFlow, there are built-in functions that implement the convolution steps for you. By now, you should be familiar with how TensorFlow builds computational graphs. In the [Functional API](https://www.tensorflow.org/guide/keras/functional), you create a graph of layers. This is what allows such great flexibility.\n",
        "\n",
        "However, the following model could also be defined using the Sequential API since the information flow is on a single line. But don't deviate. What we want you to learn is to use the functional API.\n",
        "\n",
        "Begin building your graph of layers by creating an input node that functions as a callable object:\n",
        "\n",
        "- **input_img = tf.keras.Input(shape=input_shape):** \n",
        "\n",
        "Then, create a new node in the graph of layers by calling a layer on the `input_img` object: \n",
        "\n",
        "- **tf.keras.layers.Conv2D(filters= ... , kernel_size= ... , padding='same')(input_img):** Read the full documentation on [Conv2D](https://www.tensorflow.org/api_docs/python/tf/keras/layers/Conv2D).\n",
        "\n",
        "- **tf.keras.layers.MaxPool2D(pool_size=(f, f), strides=(s, s), padding='same'):** `MaxPool2D()` downsamples your input using a window of size (f, f) and strides of size (s, s) to carry out max pooling over each window.  For max pooling, you usually operate on a single example at a time and a single channel at a time. Read the full documentation on [MaxPool2D](https://www.tensorflow.org/api_docs/python/tf/keras/layers/MaxPool2D).\n",
        "\n",
        "- **tf.keras.layers.ReLU():** computes the elementwise ReLU of Z (which can be any shape). You can read the full documentation on [ReLU](https://www.tensorflow.org/api_docs/python/tf/keras/layers/ReLU).\n",
        "\n",
        "- **tf.keras.layers.Flatten()**: given a tensor \"P\", this function takes each training (or test) example in the batch and flattens it into a 1D vector.  \n",
        "\n",
        "    * If a tensor P has the shape (batch_size,h,w,c), it returns a flattened tensor with shape (batch_size, k), where $k=h \\times w \\times c$.  \"k\" equals the product of all the dimension sizes other than the first dimension.\n",
        "    \n",
        "    * For example, given a tensor with dimensions [100, 2, 3, 4], it flattens the tensor to be of shape [100, 24], where 24 = 2 * 3 * 4.  You can read the full documentation on [Flatten](https://www.tensorflow.org/api_docs/python/tf/keras/layers/Flatten).\n",
        "\n",
        "- **tf.keras.layers.Dense(units= ... , activation='softmax')(F):** given the flattened input F, it returns the output computed using a fully connected layer. You can read the full documentation on [Dense](https://www.tensorflow.org/api_docs/python/tf/keras/layers/Dense).\n",
        "\n",
        "In the last function above (`tf.keras.layers.Dense()`), the fully connected layer automatically initializes weights in the graph and keeps on training them as you train the model. Hence, you did not need to initialize those weights when initializing the parameters.\n",
        "\n",
        "Lastly, before creating the model, you'll need to define the output using the last of the function's compositions (in this example, a Dense layer): \n",
        "\n",
        "- **outputs = tf.keras.layers.Dense(units=6, activation='softmax')(F)**\n",
        "\n",
        "\n",
        "#### Window, kernel, filter, pool\n",
        "\n",
        "The words \"kernel\" and \"filter\" are used to refer to the same thing. The word \"filter\" accounts for the amount of \"kernels\" that will be used in a single convolution layer. \"Pool\" is the name of the operation that takes the max or average value of the kernels. \n",
        "\n",
        "This is why the parameter `pool_size` refers to `kernel_size`, and you use `(f,f)` to refer to the filter size. \n",
        "\n",
        "Pool size and kernel size refer to the same thing in different objects - They refer to the shape of the window where the operation takes place. "
      ]
    },
    {
      "cell_type": "markdown",
      "metadata": {
        "id": "UG_dJYdXnvob"
      },
      "source": [
        "<a name='ex-2'></a>\n",
        "### Exercise 2 - convolutional_model\n",
        "\n",
        "Implement the `convolutional_model` function below to build the following model: `CONV2D -> RELU -> MAXPOOL -> CONV2D -> RELU -> MAXPOOL -> FLATTEN -> DENSE`. Use the functions above! \n",
        "\n",
        "Also, plug in the following parameters for all the steps:\n",
        "\n",
        " - [Conv2D](https://www.tensorflow.org/api_docs/python/tf/keras/layers/Conv2D): Use 8 4 by 4 filters, stride 1, padding is \"SAME\"\n",
        " - [ReLU](https://www.tensorflow.org/api_docs/python/tf/keras/layers/ReLU)\n",
        " - [MaxPool2D](https://www.tensorflow.org/api_docs/python/tf/keras/layers/MaxPool2D): Use an 8 by 8 filter size and an 8 by 8 stride, padding is \"SAME\"\n",
        " - **Conv2D**: Use 16 2 by 2 filters, stride 1, padding is \"SAME\"\n",
        " - **ReLU**\n",
        " - **MaxPool2D**: Use a 4 by 4 filter size and a 4 by 4 stride, padding is \"SAME\"\n",
        " - [Flatten](https://www.tensorflow.org/api_docs/python/tf/keras/layers/Flatten) the previous output.\n",
        " - Fully-connected ([Dense](https://www.tensorflow.org/api_docs/python/tf/keras/layers/Dense)) layer: Apply a fully connected layer with 6 neurons and a softmax activation. "
      ]
    },
    {
      "cell_type": "code",
      "execution_count": 27,
      "metadata": {
        "deletable": false,
        "nbgrader": {
          "cell_type": "code",
          "checksum": "f58643806aa8380c96225fc8b4c5e7aa",
          "grade": false,
          "grade_id": "cell-dac51744a9e03f51",
          "locked": false,
          "schema_version": 3,
          "solution": true,
          "task": false
        },
        "id": "MLwg4y7unvoc"
      },
      "outputs": [],
      "source": [
        "# GRADED FUNCTION: convolutional_model\n",
        "\n",
        "def convolutional_model(input_shape):\n",
        "    \"\"\"\n",
        "    Implements the forward propagation for the model:\n",
        "    CONV2D -> RELU -> MAXPOOL -> CONV2D -> RELU -> MAXPOOL -> FLATTEN -> DENSE\n",
        "    \n",
        "    Note that for simplicity and grading purposes, you'll hard-code some values\n",
        "    such as the stride and kernel (filter) sizes. \n",
        "    Normally, functions should take these values as function parameters.\n",
        "    \n",
        "    Arguments:\n",
        "    input_img -- input dataset, of shape (input_shape)\n",
        "\n",
        "    Returns:\n",
        "    model -- TF Keras model (object containing the information for the entire training process) \n",
        "    \"\"\"\n",
        "\n",
        "    input_img = tf.keras.Input(shape=input_shape)\n",
        "    ## CONV2D: 8 filters 4x4, stride of 1, padding 'SAME'\n",
        "    Z1 = tf.keras.layers.Conv2D(filters=8, kernel_size=4, strides=1, padding='same')(input_img)\n",
        "    ## RELU\n",
        "    A1 = tf.keras.layers.ReLU()(Z1)\n",
        "    ## MAXPOOL: window 8x8, stride 8, padding 'SAME'\n",
        "    P1 = tf.keras.layers.MaxPool2D(pool_size=8, strides=8, padding='same')(A1)\n",
        "    ## CONV2D: 16 filters 2x2, stride 1, padding 'SAME'\n",
        "    Z2 = tf.keras.layers.Conv2D(filters=16, kernel_size=2, strides=1, padding='same')(P1)\n",
        "    ## RELU\n",
        "    A2 = tf.keras.layers.ReLU()(Z2)\n",
        "    ## MAXPOOL: window 4x4, stride 4, padding 'SAME'\n",
        "    P2 = tf.keras.layers.MaxPool2D(pool_size=4, strides=4, padding='same')(A2)\n",
        "    ## FLATTEN\n",
        "    F = tf.keras.layers.Flatten()(P2)\n",
        "    ## Dense layer\n",
        "    ## 6 neurons in output layer. Hint: one of the arguments should be \"activation='softmax'\" \n",
        "    outputs = tf.keras.layers.Dense(units=6, activation='softmax')(F)\n",
        "    \n",
        "    model = tf.keras.Model(inputs=input_img, outputs=outputs)\n",
        "    return model"
      ]
    },
    {
      "cell_type": "code",
      "execution_count": 28,
      "metadata": {
        "deletable": false,
        "editable": false,
        "nbgrader": {
          "cell_type": "code",
          "checksum": "483d626949930a0b0ef20997e7c6ba72",
          "grade": true,
          "grade_id": "cell-45d22e92042174c9",
          "locked": true,
          "points": 10,
          "schema_version": 3,
          "solution": false,
          "task": false
        },
        "colab": {
          "base_uri": "https://localhost:8080/"
        },
        "id": "pwO1ryPAnvoc",
        "outputId": "6545138f-e677-4ef0-ae9d-d5b166846db0"
      },
      "outputs": [
        {
          "output_type": "stream",
          "name": "stdout",
          "text": [
            "Model: \"model\"\n",
            "_________________________________________________________________\n",
            " Layer (type)                Output Shape              Param #   \n",
            "=================================================================\n",
            " input_3 (InputLayer)        [(None, 64, 64, 3)]       0         \n",
            "                                                                 \n",
            " conv2d_1 (Conv2D)           (None, 64, 64, 8)         392       \n",
            "                                                                 \n",
            " re_lu_1 (ReLU)              (None, 64, 64, 8)         0         \n",
            "                                                                 \n",
            " max_pooling2d_1 (MaxPooling  (None, 8, 8, 8)          0         \n",
            " 2D)                                                             \n",
            "                                                                 \n",
            " conv2d_2 (Conv2D)           (None, 8, 8, 16)          528       \n",
            "                                                                 \n",
            " re_lu_2 (ReLU)              (None, 8, 8, 16)          0         \n",
            "                                                                 \n",
            " max_pooling2d_2 (MaxPooling  (None, 2, 2, 16)         0         \n",
            " 2D)                                                             \n",
            "                                                                 \n",
            " flatten_1 (Flatten)         (None, 64)                0         \n",
            "                                                                 \n",
            " dense_1 (Dense)             (None, 6)                 390       \n",
            "                                                                 \n",
            "=================================================================\n",
            "Total params: 1,310\n",
            "Trainable params: 1,310\n",
            "Non-trainable params: 0\n",
            "_________________________________________________________________\n",
            "\u001b[32mAll tests passed!\u001b[0m\n"
          ]
        }
      ],
      "source": [
        "conv_model = convolutional_model((64, 64, 3))\n",
        "conv_model.compile(optimizer='adam',\n",
        "                  loss='categorical_crossentropy',\n",
        "                  metrics=['accuracy'])\n",
        "conv_model.summary()\n",
        "    \n",
        "output = [['InputLayer', [(None, 64, 64, 3)], 0],\n",
        "        ['Conv2D', (None, 64, 64, 8), 392, 'same', 'linear', 'GlorotUniform'],\n",
        "        ['ReLU', (None, 64, 64, 8), 0],\n",
        "        ['MaxPooling2D', (None, 8, 8, 8), 0, (8, 8), (8, 8), 'same'],\n",
        "        ['Conv2D', (None, 8, 8, 16), 528, 'same', 'linear', 'GlorotUniform'],\n",
        "        ['ReLU', (None, 8, 8, 16), 0],\n",
        "        ['MaxPooling2D', (None, 2, 2, 16), 0, (4, 4), (4, 4), 'same'],\n",
        "        ['Flatten', (None, 64), 0],\n",
        "        ['Dense', (None, 6), 390, 'softmax']]\n",
        "    \n",
        "comparator(summary(conv_model), output)"
      ]
    },
    {
      "cell_type": "markdown",
      "metadata": {
        "id": "qgcpm9sInvoc"
      },
      "source": [
        "Both the Sequential and Functional APIs return a TF Keras model object. The only difference is how inputs are handled inside the object model! "
      ]
    },
    {
      "cell_type": "markdown",
      "metadata": {
        "id": "NhG4D9i1nvoc"
      },
      "source": [
        "<a name='4-4'></a>\n",
        "### 4.4 - Train the Model"
      ]
    },
    {
      "cell_type": "code",
      "execution_count": 29,
      "metadata": {
        "colab": {
          "base_uri": "https://localhost:8080/"
        },
        "id": "d_y2NHNFnvod",
        "outputId": "a369c8c4-2085-4f3f-d521-5fcec16ef84f"
      },
      "outputs": [
        {
          "output_type": "stream",
          "name": "stdout",
          "text": [
            "Epoch 1/100\n",
            "17/17 [==============================] - 2s 109ms/step - loss: 1.8057 - accuracy: 0.1676 - val_loss: 1.7856 - val_accuracy: 0.1833\n",
            "Epoch 2/100\n",
            "17/17 [==============================] - 2s 100ms/step - loss: 1.7839 - accuracy: 0.2130 - val_loss: 1.7814 - val_accuracy: 0.2167\n",
            "Epoch 3/100\n",
            "17/17 [==============================] - 2s 100ms/step - loss: 1.7779 - accuracy: 0.2398 - val_loss: 1.7758 - val_accuracy: 0.2917\n",
            "Epoch 4/100\n",
            "17/17 [==============================] - 2s 99ms/step - loss: 1.7711 - accuracy: 0.2731 - val_loss: 1.7666 - val_accuracy: 0.3500\n",
            "Epoch 5/100\n",
            "17/17 [==============================] - 2s 101ms/step - loss: 1.7611 - accuracy: 0.3093 - val_loss: 1.7566 - val_accuracy: 0.3917\n",
            "Epoch 6/100\n",
            "17/17 [==============================] - 2s 100ms/step - loss: 1.7477 - accuracy: 0.3056 - val_loss: 1.7429 - val_accuracy: 0.3250\n",
            "Epoch 7/100\n",
            "17/17 [==============================] - 2s 100ms/step - loss: 1.7304 - accuracy: 0.3694 - val_loss: 1.7276 - val_accuracy: 0.3667\n",
            "Epoch 8/100\n",
            "17/17 [==============================] - 2s 99ms/step - loss: 1.7107 - accuracy: 0.3991 - val_loss: 1.7106 - val_accuracy: 0.3583\n",
            "Epoch 9/100\n",
            "17/17 [==============================] - 2s 100ms/step - loss: 1.6874 - accuracy: 0.4102 - val_loss: 1.6894 - val_accuracy: 0.4000\n",
            "Epoch 10/100\n",
            "17/17 [==============================] - 2s 101ms/step - loss: 1.6570 - accuracy: 0.4157 - val_loss: 1.6622 - val_accuracy: 0.4000\n",
            "Epoch 11/100\n",
            "17/17 [==============================] - 2s 101ms/step - loss: 1.6218 - accuracy: 0.4194 - val_loss: 1.6322 - val_accuracy: 0.3917\n",
            "Epoch 12/100\n",
            "17/17 [==============================] - 2s 101ms/step - loss: 1.5820 - accuracy: 0.4417 - val_loss: 1.5992 - val_accuracy: 0.4083\n",
            "Epoch 13/100\n",
            "17/17 [==============================] - 2s 100ms/step - loss: 1.5396 - accuracy: 0.4509 - val_loss: 1.5645 - val_accuracy: 0.4500\n",
            "Epoch 14/100\n",
            "17/17 [==============================] - 2s 101ms/step - loss: 1.4979 - accuracy: 0.4685 - val_loss: 1.5310 - val_accuracy: 0.4583\n",
            "Epoch 15/100\n",
            "17/17 [==============================] - 2s 100ms/step - loss: 1.4560 - accuracy: 0.4833 - val_loss: 1.4980 - val_accuracy: 0.4500\n",
            "Epoch 16/100\n",
            "17/17 [==============================] - 2s 101ms/step - loss: 1.4167 - accuracy: 0.4991 - val_loss: 1.4639 - val_accuracy: 0.4333\n",
            "Epoch 17/100\n",
            "17/17 [==============================] - 2s 100ms/step - loss: 1.3794 - accuracy: 0.5019 - val_loss: 1.4305 - val_accuracy: 0.4583\n",
            "Epoch 18/100\n",
            "17/17 [==============================] - 2s 100ms/step - loss: 1.3440 - accuracy: 0.5148 - val_loss: 1.3970 - val_accuracy: 0.5167\n",
            "Epoch 19/100\n",
            "17/17 [==============================] - 2s 100ms/step - loss: 1.3107 - accuracy: 0.5324 - val_loss: 1.3644 - val_accuracy: 0.5083\n",
            "Epoch 20/100\n",
            "17/17 [==============================] - 2s 101ms/step - loss: 1.2787 - accuracy: 0.5500 - val_loss: 1.3323 - val_accuracy: 0.5167\n",
            "Epoch 21/100\n",
            "17/17 [==============================] - 2s 102ms/step - loss: 1.2475 - accuracy: 0.5639 - val_loss: 1.3002 - val_accuracy: 0.5000\n",
            "Epoch 22/100\n",
            "17/17 [==============================] - 2s 99ms/step - loss: 1.2174 - accuracy: 0.5778 - val_loss: 1.2684 - val_accuracy: 0.5083\n",
            "Epoch 23/100\n",
            "17/17 [==============================] - 2s 101ms/step - loss: 1.1881 - accuracy: 0.5852 - val_loss: 1.2381 - val_accuracy: 0.5167\n",
            "Epoch 24/100\n",
            "17/17 [==============================] - 2s 102ms/step - loss: 1.1587 - accuracy: 0.5926 - val_loss: 1.2057 - val_accuracy: 0.5333\n",
            "Epoch 25/100\n",
            "17/17 [==============================] - 2s 100ms/step - loss: 1.1309 - accuracy: 0.6019 - val_loss: 1.1765 - val_accuracy: 0.5417\n",
            "Epoch 26/100\n",
            "17/17 [==============================] - 2s 100ms/step - loss: 1.1019 - accuracy: 0.6093 - val_loss: 1.1474 - val_accuracy: 0.5500\n",
            "Epoch 27/100\n",
            "17/17 [==============================] - 2s 101ms/step - loss: 1.0756 - accuracy: 0.6130 - val_loss: 1.1218 - val_accuracy: 0.5583\n",
            "Epoch 28/100\n",
            "17/17 [==============================] - 2s 102ms/step - loss: 1.0497 - accuracy: 0.6278 - val_loss: 1.0935 - val_accuracy: 0.5667\n",
            "Epoch 29/100\n",
            "17/17 [==============================] - 2s 102ms/step - loss: 1.0233 - accuracy: 0.6472 - val_loss: 1.0656 - val_accuracy: 0.5750\n",
            "Epoch 30/100\n",
            "17/17 [==============================] - 2s 100ms/step - loss: 0.9987 - accuracy: 0.6630 - val_loss: 1.0369 - val_accuracy: 0.5833\n",
            "Epoch 31/100\n",
            "17/17 [==============================] - 2s 100ms/step - loss: 0.9735 - accuracy: 0.6713 - val_loss: 1.0108 - val_accuracy: 0.6167\n",
            "Epoch 32/100\n",
            "17/17 [==============================] - 2s 101ms/step - loss: 0.9507 - accuracy: 0.6769 - val_loss: 0.9894 - val_accuracy: 0.6333\n",
            "Epoch 33/100\n",
            "17/17 [==============================] - 2s 101ms/step - loss: 0.9272 - accuracy: 0.6880 - val_loss: 0.9646 - val_accuracy: 0.6333\n",
            "Epoch 34/100\n",
            "17/17 [==============================] - 2s 102ms/step - loss: 0.9063 - accuracy: 0.7009 - val_loss: 0.9433 - val_accuracy: 0.6500\n",
            "Epoch 35/100\n",
            "17/17 [==============================] - 2s 100ms/step - loss: 0.8855 - accuracy: 0.7083 - val_loss: 0.9224 - val_accuracy: 0.6583\n",
            "Epoch 36/100\n",
            "17/17 [==============================] - 2s 102ms/step - loss: 0.8663 - accuracy: 0.7148 - val_loss: 0.9028 - val_accuracy: 0.6750\n",
            "Epoch 37/100\n",
            "17/17 [==============================] - 2s 101ms/step - loss: 0.8483 - accuracy: 0.7250 - val_loss: 0.8845 - val_accuracy: 0.6833\n",
            "Epoch 38/100\n",
            "17/17 [==============================] - 2s 101ms/step - loss: 0.8306 - accuracy: 0.7296 - val_loss: 0.8657 - val_accuracy: 0.6833\n",
            "Epoch 39/100\n",
            "17/17 [==============================] - 2s 101ms/step - loss: 0.8140 - accuracy: 0.7296 - val_loss: 0.8495 - val_accuracy: 0.6750\n",
            "Epoch 40/100\n",
            "17/17 [==============================] - 2s 101ms/step - loss: 0.7983 - accuracy: 0.7315 - val_loss: 0.8330 - val_accuracy: 0.6667\n",
            "Epoch 41/100\n",
            "17/17 [==============================] - 2s 101ms/step - loss: 0.7833 - accuracy: 0.7370 - val_loss: 0.8176 - val_accuracy: 0.7000\n",
            "Epoch 42/100\n",
            "17/17 [==============================] - 2s 102ms/step - loss: 0.7690 - accuracy: 0.7417 - val_loss: 0.8026 - val_accuracy: 0.7167\n",
            "Epoch 43/100\n",
            "17/17 [==============================] - 2s 100ms/step - loss: 0.7554 - accuracy: 0.7491 - val_loss: 0.7881 - val_accuracy: 0.7250\n",
            "Epoch 44/100\n",
            "17/17 [==============================] - 2s 101ms/step - loss: 0.7424 - accuracy: 0.7509 - val_loss: 0.7733 - val_accuracy: 0.7333\n",
            "Epoch 45/100\n",
            "17/17 [==============================] - 2s 101ms/step - loss: 0.7291 - accuracy: 0.7574 - val_loss: 0.7602 - val_accuracy: 0.7167\n",
            "Epoch 46/100\n",
            "17/17 [==============================] - 2s 101ms/step - loss: 0.7163 - accuracy: 0.7657 - val_loss: 0.7470 - val_accuracy: 0.7333\n",
            "Epoch 47/100\n",
            "17/17 [==============================] - 2s 101ms/step - loss: 0.7051 - accuracy: 0.7676 - val_loss: 0.7347 - val_accuracy: 0.7250\n",
            "Epoch 48/100\n",
            "17/17 [==============================] - 2s 100ms/step - loss: 0.6934 - accuracy: 0.7713 - val_loss: 0.7244 - val_accuracy: 0.7333\n",
            "Epoch 49/100\n",
            "17/17 [==============================] - 2s 102ms/step - loss: 0.6834 - accuracy: 0.7759 - val_loss: 0.7134 - val_accuracy: 0.7333\n",
            "Epoch 50/100\n",
            "17/17 [==============================] - 2s 101ms/step - loss: 0.6735 - accuracy: 0.7833 - val_loss: 0.7042 - val_accuracy: 0.7417\n",
            "Epoch 51/100\n",
            "17/17 [==============================] - 2s 100ms/step - loss: 0.6637 - accuracy: 0.7824 - val_loss: 0.6938 - val_accuracy: 0.7417\n",
            "Epoch 52/100\n",
            "17/17 [==============================] - 2s 100ms/step - loss: 0.6543 - accuracy: 0.7889 - val_loss: 0.6852 - val_accuracy: 0.7417\n",
            "Epoch 53/100\n",
            "17/17 [==============================] - 2s 101ms/step - loss: 0.6446 - accuracy: 0.7926 - val_loss: 0.6769 - val_accuracy: 0.7333\n",
            "Epoch 54/100\n",
            "17/17 [==============================] - 2s 103ms/step - loss: 0.6348 - accuracy: 0.7972 - val_loss: 0.6670 - val_accuracy: 0.7333\n",
            "Epoch 55/100\n",
            "17/17 [==============================] - 2s 101ms/step - loss: 0.6245 - accuracy: 0.7944 - val_loss: 0.6577 - val_accuracy: 0.7500\n",
            "Epoch 56/100\n",
            "17/17 [==============================] - 2s 101ms/step - loss: 0.6147 - accuracy: 0.8009 - val_loss: 0.6517 - val_accuracy: 0.7667\n",
            "Epoch 57/100\n",
            "17/17 [==============================] - 2s 102ms/step - loss: 0.6051 - accuracy: 0.8065 - val_loss: 0.6427 - val_accuracy: 0.7583\n",
            "Epoch 58/100\n",
            "17/17 [==============================] - 2s 101ms/step - loss: 0.5964 - accuracy: 0.8046 - val_loss: 0.6363 - val_accuracy: 0.7750\n",
            "Epoch 59/100\n",
            "17/17 [==============================] - 2s 103ms/step - loss: 0.5883 - accuracy: 0.8111 - val_loss: 0.6307 - val_accuracy: 0.7750\n",
            "Epoch 60/100\n",
            "17/17 [==============================] - 2s 103ms/step - loss: 0.5802 - accuracy: 0.8157 - val_loss: 0.6242 - val_accuracy: 0.7750\n",
            "Epoch 61/100\n",
            "17/17 [==============================] - 2s 101ms/step - loss: 0.5728 - accuracy: 0.8185 - val_loss: 0.6169 - val_accuracy: 0.7750\n",
            "Epoch 62/100\n",
            "17/17 [==============================] - 2s 102ms/step - loss: 0.5654 - accuracy: 0.8241 - val_loss: 0.6115 - val_accuracy: 0.7917\n",
            "Epoch 63/100\n",
            "17/17 [==============================] - 2s 102ms/step - loss: 0.5583 - accuracy: 0.8296 - val_loss: 0.6062 - val_accuracy: 0.7917\n",
            "Epoch 64/100\n",
            "17/17 [==============================] - 2s 102ms/step - loss: 0.5518 - accuracy: 0.8315 - val_loss: 0.5999 - val_accuracy: 0.8000\n",
            "Epoch 65/100\n",
            "17/17 [==============================] - 2s 101ms/step - loss: 0.5451 - accuracy: 0.8333 - val_loss: 0.5959 - val_accuracy: 0.8000\n",
            "Epoch 66/100\n",
            "17/17 [==============================] - 2s 102ms/step - loss: 0.5393 - accuracy: 0.8352 - val_loss: 0.5900 - val_accuracy: 0.8000\n",
            "Epoch 67/100\n",
            "17/17 [==============================] - 2s 101ms/step - loss: 0.5331 - accuracy: 0.8380 - val_loss: 0.5860 - val_accuracy: 0.8000\n",
            "Epoch 68/100\n",
            "17/17 [==============================] - 2s 103ms/step - loss: 0.5278 - accuracy: 0.8380 - val_loss: 0.5815 - val_accuracy: 0.8000\n",
            "Epoch 69/100\n",
            "17/17 [==============================] - 2s 102ms/step - loss: 0.5216 - accuracy: 0.8407 - val_loss: 0.5759 - val_accuracy: 0.8000\n",
            "Epoch 70/100\n",
            "17/17 [==============================] - 2s 101ms/step - loss: 0.5164 - accuracy: 0.8435 - val_loss: 0.5724 - val_accuracy: 0.8000\n",
            "Epoch 71/100\n",
            "17/17 [==============================] - 2s 102ms/step - loss: 0.5108 - accuracy: 0.8435 - val_loss: 0.5672 - val_accuracy: 0.8000\n",
            "Epoch 72/100\n",
            "17/17 [==============================] - 2s 103ms/step - loss: 0.5056 - accuracy: 0.8454 - val_loss: 0.5635 - val_accuracy: 0.7917\n",
            "Epoch 73/100\n",
            "17/17 [==============================] - 2s 101ms/step - loss: 0.5003 - accuracy: 0.8472 - val_loss: 0.5588 - val_accuracy: 0.7833\n",
            "Epoch 74/100\n",
            "17/17 [==============================] - 2s 103ms/step - loss: 0.4955 - accuracy: 0.8491 - val_loss: 0.5551 - val_accuracy: 0.7833\n",
            "Epoch 75/100\n",
            "17/17 [==============================] - 2s 100ms/step - loss: 0.4907 - accuracy: 0.8500 - val_loss: 0.5508 - val_accuracy: 0.7833\n",
            "Epoch 76/100\n",
            "17/17 [==============================] - 2s 102ms/step - loss: 0.4861 - accuracy: 0.8519 - val_loss: 0.5479 - val_accuracy: 0.7917\n",
            "Epoch 77/100\n",
            "17/17 [==============================] - 2s 101ms/step - loss: 0.4811 - accuracy: 0.8528 - val_loss: 0.5445 - val_accuracy: 0.7917\n",
            "Epoch 78/100\n",
            "17/17 [==============================] - 2s 102ms/step - loss: 0.4765 - accuracy: 0.8565 - val_loss: 0.5400 - val_accuracy: 0.7917\n",
            "Epoch 79/100\n",
            "17/17 [==============================] - 2s 104ms/step - loss: 0.4718 - accuracy: 0.8546 - val_loss: 0.5377 - val_accuracy: 0.7917\n",
            "Epoch 80/100\n",
            "17/17 [==============================] - 3s 169ms/step - loss: 0.4673 - accuracy: 0.8565 - val_loss: 0.5330 - val_accuracy: 0.7917\n",
            "Epoch 81/100\n",
            "17/17 [==============================] - 2s 102ms/step - loss: 0.4625 - accuracy: 0.8593 - val_loss: 0.5297 - val_accuracy: 0.8000\n",
            "Epoch 82/100\n",
            "17/17 [==============================] - 2s 102ms/step - loss: 0.4582 - accuracy: 0.8611 - val_loss: 0.5271 - val_accuracy: 0.8000\n",
            "Epoch 83/100\n",
            "17/17 [==============================] - 2s 101ms/step - loss: 0.4540 - accuracy: 0.8620 - val_loss: 0.5240 - val_accuracy: 0.8000\n",
            "Epoch 84/100\n",
            "17/17 [==============================] - 2s 100ms/step - loss: 0.4497 - accuracy: 0.8611 - val_loss: 0.5209 - val_accuracy: 0.8000\n",
            "Epoch 85/100\n",
            "17/17 [==============================] - 2s 100ms/step - loss: 0.4458 - accuracy: 0.8630 - val_loss: 0.5171 - val_accuracy: 0.8000\n",
            "Epoch 86/100\n",
            "17/17 [==============================] - 2s 101ms/step - loss: 0.4414 - accuracy: 0.8657 - val_loss: 0.5148 - val_accuracy: 0.8000\n",
            "Epoch 87/100\n",
            "17/17 [==============================] - 2s 101ms/step - loss: 0.4378 - accuracy: 0.8676 - val_loss: 0.5119 - val_accuracy: 0.8000\n",
            "Epoch 88/100\n",
            "17/17 [==============================] - 2s 102ms/step - loss: 0.4337 - accuracy: 0.8685 - val_loss: 0.5074 - val_accuracy: 0.7917\n",
            "Epoch 89/100\n",
            "17/17 [==============================] - 2s 102ms/step - loss: 0.4301 - accuracy: 0.8676 - val_loss: 0.5049 - val_accuracy: 0.7917\n",
            "Epoch 90/100\n",
            "17/17 [==============================] - 2s 101ms/step - loss: 0.4263 - accuracy: 0.8694 - val_loss: 0.5018 - val_accuracy: 0.7917\n",
            "Epoch 91/100\n",
            "17/17 [==============================] - 2s 102ms/step - loss: 0.4225 - accuracy: 0.8694 - val_loss: 0.4989 - val_accuracy: 0.7917\n",
            "Epoch 92/100\n",
            "17/17 [==============================] - 2s 102ms/step - loss: 0.4187 - accuracy: 0.8694 - val_loss: 0.4967 - val_accuracy: 0.7917\n",
            "Epoch 93/100\n",
            "17/17 [==============================] - 2s 103ms/step - loss: 0.4151 - accuracy: 0.8731 - val_loss: 0.4928 - val_accuracy: 0.7917\n",
            "Epoch 94/100\n",
            "17/17 [==============================] - 2s 101ms/step - loss: 0.4112 - accuracy: 0.8741 - val_loss: 0.4916 - val_accuracy: 0.7917\n",
            "Epoch 95/100\n",
            "17/17 [==============================] - 2s 103ms/step - loss: 0.4076 - accuracy: 0.8741 - val_loss: 0.4888 - val_accuracy: 0.7917\n",
            "Epoch 96/100\n",
            "17/17 [==============================] - 2s 102ms/step - loss: 0.4040 - accuracy: 0.8759 - val_loss: 0.4857 - val_accuracy: 0.7917\n",
            "Epoch 97/100\n",
            "17/17 [==============================] - 2s 101ms/step - loss: 0.4005 - accuracy: 0.8759 - val_loss: 0.4839 - val_accuracy: 0.7917\n",
            "Epoch 98/100\n",
            "17/17 [==============================] - 2s 104ms/step - loss: 0.3967 - accuracy: 0.8778 - val_loss: 0.4805 - val_accuracy: 0.7917\n",
            "Epoch 99/100\n",
            "17/17 [==============================] - 2s 101ms/step - loss: 0.3932 - accuracy: 0.8769 - val_loss: 0.4781 - val_accuracy: 0.8000\n",
            "Epoch 100/100\n",
            "17/17 [==============================] - 2s 103ms/step - loss: 0.3900 - accuracy: 0.8796 - val_loss: 0.4758 - val_accuracy: 0.7917\n"
          ]
        }
      ],
      "source": [
        "train_dataset = tf.data.Dataset.from_tensor_slices((X_train, Y_train)).batch(64)\n",
        "test_dataset = tf.data.Dataset.from_tensor_slices((X_test, Y_test)).batch(64)\n",
        "history = conv_model.fit(train_dataset, epochs=100, validation_data=test_dataset)"
      ]
    },
    {
      "cell_type": "markdown",
      "metadata": {
        "id": "6-S9Ki2Cnvod"
      },
      "source": [
        "<a name='5'></a>\n",
        "## 5 - History Object \n",
        "\n",
        "The history object is an output of the `.fit()` operation, and provides a record of all the loss and metric values in memory. It's stored as a dictionary that you can retrieve at `history.history`: "
      ]
    },
    {
      "cell_type": "code",
      "execution_count": null,
      "metadata": {
        "id": "OBfIv9hDnvod"
      },
      "outputs": [],
      "source": [
        "history.history"
      ]
    },
    {
      "cell_type": "markdown",
      "metadata": {
        "id": "Z-fwj2Osnvod"
      },
      "source": [
        "Now visualize the loss over time using `history.history`: "
      ]
    },
    {
      "cell_type": "code",
      "execution_count": 31,
      "metadata": {
        "colab": {
          "base_uri": "https://localhost:8080/",
          "height": 1000
        },
        "id": "8ECUj13knvod",
        "outputId": "c05a910a-3b82-4d81-ac4d-e8ec65bb1faa"
      },
      "outputs": [
        {
          "output_type": "stream",
          "name": "stderr",
          "text": [
            "/usr/local/lib/python3.7/dist-packages/pandas/core/frame.py:5047: SettingWithCopyWarning: \n",
            "A value is trying to be set on a copy of a slice from a DataFrame\n",
            "\n",
            "See the caveats in the documentation: https://pandas.pydata.org/pandas-docs/stable/user_guide/indexing.html#returning-a-view-versus-a-copy\n",
            "  errors=errors,\n"
          ]
        },
        {
          "output_type": "execute_result",
          "data": {
            "text/plain": [
              "[Text(0, 0.5, 'Accuracy'), Text(0.5, 0, 'Epoch')]"
            ]
          },
          "metadata": {},
          "execution_count": 31
        },
        {
          "output_type": "display_data",
          "data": {
            "text/plain": [
              "<Figure size 864x576 with 1 Axes>"
            ],
            "image/png": "[encoded data removed]"
          },
          "metadata": {
            "needs_background": "light"
          }
        },
        {
          "output_type": "display_data",
          "data": {
            "text/plain": [
              "<Figure size 864x576 with 1 Axes>"
            ],
            "image/png": "[encoded data removed]"
          },
          "metadata": {
            "needs_background": "light"
          }
        }
      ],
      "source": [
        "# The history.history[\"loss\"] entry is a dictionary with as many values as epochs that the\n",
        "# model was trained on. \n",
        "df_loss_acc = pd.DataFrame(history.history)\n",
        "df_loss= df_loss_acc[['loss','val_loss']]\n",
        "df_loss.rename(columns={'loss':'train','val_loss':'validation'},inplace=True)\n",
        "df_acc= df_loss_acc[['accuracy','val_accuracy']]\n",
        "df_acc.rename(columns={'accuracy':'train','val_accuracy':'validation'},inplace=True)\n",
        "df_loss.plot(title='Model loss',figsize=(12,8)).set(xlabel='Epoch',ylabel='Loss')\n",
        "df_acc.plot(title='Model Accuracy',figsize=(12,8)).set(xlabel='Epoch',ylabel='Accuracy')"
      ]
    },
    {
      "cell_type": "markdown",
      "metadata": {
        "id": "Whb7xqmynvod"
      },
      "source": [
        "**Congratulations**! You've finished the assignment and built two models: One that recognizes  smiles, and another that recognizes SIGN language with almost 80% accuracy on the test set. In addition to that, you now also understand the applications of two Keras APIs: Sequential and Functional. Nicely done! \n",
        "\n",
        "By now, you know a bit about how the Functional API works and may have glimpsed the possibilities. In your next assignment, you'll really get a feel for its power when you get the opportunity to build a very deep ConvNet, using ResNets! "
      ]
    },
    {
      "cell_type": "markdown",
      "metadata": {
        "id": "PHGVWIIgnvod"
      },
      "source": [
        "<a name='6'></a>\n",
        "## 6 - Bibliography\n",
        "\n",
        "You're always encouraged to read the official documentation. To that end, you can find the docs for the Sequential and Functional APIs here: \n",
        "\n",
        "https://www.tensorflow.org/guide/keras/sequential_model\n",
        "\n",
        "https://www.tensorflow.org/guide/keras/functional"
      ]
    }
  ],
  "metadata": {
    "coursera": {
      "course_slug": "convolutional-neural-networks",
      "graded_item_id": "bwbJV",
      "launcher_item_id": "0TkXB"
    },
    "kernelspec": {
      "display_name": "Python 3",
      "language": "python",
      "name": "python3"
    },
    "language_info": {
      "codemirror_mode": {
        "name": "ipython",
        "version": 3
      },
      "file_extension": ".py",
      "mimetype": "text/x-python",
      "name": "python",
      "nbconvert_exporter": "python",
      "pygments_lexer": "ipython3",
      "version": "3.7.6"
    },
    "colab": {
      "name": "Convolution_model_Application.ipynb",
      "provenance": []
    }
  },
  "nbformat": 4,
  "nbformat_minor": 0
}